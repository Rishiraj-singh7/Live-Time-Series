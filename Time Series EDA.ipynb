{
 "cells": [
  {
   "cell_type": "code",
   "execution_count": 1,
   "metadata": {},
   "outputs": [
    {
     "name": "stdout",
     "output_type": "stream",
     "text": [
      "Requirement already satisfied: pandas-datareader in /home/linux/.local/lib/python3.8/site-packages (0.10.0)\n",
      "Requirement already satisfied: pandas>=0.23 in /home/linux/.local/lib/python3.8/site-packages (from pandas-datareader) (1.4.2)\n",
      "Requirement already satisfied: lxml in /home/linux/.local/lib/python3.8/site-packages (from pandas-datareader) (4.9.0)\n",
      "Requirement already satisfied: requests>=2.19.0 in /usr/lib/python3/dist-packages (from pandas-datareader) (2.22.0)\n",
      "Requirement already satisfied: python-dateutil>=2.8.1 in /home/linux/.local/lib/python3.8/site-packages (from pandas>=0.23->pandas-datareader) (2.8.2)\n",
      "Requirement already satisfied: numpy>=1.18.5; platform_machine != \"aarch64\" and platform_machine != \"arm64\" and python_version < \"3.10\" in /home/linux/.local/lib/python3.8/site-packages (from pandas>=0.23->pandas-datareader) (1.22.4)\n",
      "Requirement already satisfied: pytz>=2020.1 in /home/linux/.local/lib/python3.8/site-packages (from pandas>=0.23->pandas-datareader) (2022.1)\n",
      "Requirement already satisfied: six>=1.5 in /usr/lib/python3/dist-packages (from python-dateutil>=2.8.1->pandas>=0.23->pandas-datareader) (1.14.0)\n"
     ]
    }
   ],
   "source": [
    "## Install Pandas Data Reader\n",
    "!pip install pandas-datareader"
   ]
  },
  {
   "cell_type": "code",
   "execution_count": 2,
   "metadata": {},
   "outputs": [],
   "source": [
    "import pandas_datareader as pdr\n",
    "import pandas as pd\n",
    "from datetime import datetime\n"
   ]
  },
  {
   "cell_type": "code",
   "execution_count": 3,
   "metadata": {},
   "outputs": [],
   "source": [
    "df_tesla=pdr.get_data_yahoo('TSLA')"
   ]
  },
  {
   "cell_type": "code",
   "execution_count": 4,
   "metadata": {},
   "outputs": [
    {
     "data": {
      "text/html": [
       "<div>\n",
       "<style scoped>\n",
       "    .dataframe tbody tr th:only-of-type {\n",
       "        vertical-align: middle;\n",
       "    }\n",
       "\n",
       "    .dataframe tbody tr th {\n",
       "        vertical-align: top;\n",
       "    }\n",
       "\n",
       "    .dataframe thead th {\n",
       "        text-align: right;\n",
       "    }\n",
       "</style>\n",
       "<table border=\"1\" class=\"dataframe\">\n",
       "  <thead>\n",
       "    <tr style=\"text-align: right;\">\n",
       "      <th></th>\n",
       "      <th>High</th>\n",
       "      <th>Low</th>\n",
       "      <th>Open</th>\n",
       "      <th>Close</th>\n",
       "      <th>Volume</th>\n",
       "      <th>Adj Close</th>\n",
       "    </tr>\n",
       "    <tr>\n",
       "      <th>Date</th>\n",
       "      <th></th>\n",
       "      <th></th>\n",
       "      <th></th>\n",
       "      <th></th>\n",
       "      <th></th>\n",
       "      <th></th>\n",
       "    </tr>\n",
       "  </thead>\n",
       "  <tbody>\n",
       "    <tr>\n",
       "      <th>2022-07-01</th>\n",
       "      <td>690.690002</td>\n",
       "      <td>666.359985</td>\n",
       "      <td>681.000000</td>\n",
       "      <td>681.789978</td>\n",
       "      <td>24781500.0</td>\n",
       "      <td>681.789978</td>\n",
       "    </tr>\n",
       "    <tr>\n",
       "      <th>2022-07-05</th>\n",
       "      <td>699.440002</td>\n",
       "      <td>648.500000</td>\n",
       "      <td>669.000000</td>\n",
       "      <td>699.200012</td>\n",
       "      <td>28193700.0</td>\n",
       "      <td>699.200012</td>\n",
       "    </tr>\n",
       "    <tr>\n",
       "      <th>2022-07-06</th>\n",
       "      <td>703.690002</td>\n",
       "      <td>681.559998</td>\n",
       "      <td>692.340027</td>\n",
       "      <td>695.200012</td>\n",
       "      <td>23951200.0</td>\n",
       "      <td>695.200012</td>\n",
       "    </tr>\n",
       "    <tr>\n",
       "      <th>2022-07-07</th>\n",
       "      <td>736.090027</td>\n",
       "      <td>696.630005</td>\n",
       "      <td>701.760010</td>\n",
       "      <td>733.630005</td>\n",
       "      <td>27310200.0</td>\n",
       "      <td>733.630005</td>\n",
       "    </tr>\n",
       "    <tr>\n",
       "      <th>2022-07-08</th>\n",
       "      <td>764.940002</td>\n",
       "      <td>723.479980</td>\n",
       "      <td>727.000000</td>\n",
       "      <td>752.289978</td>\n",
       "      <td>33343700.0</td>\n",
       "      <td>752.289978</td>\n",
       "    </tr>\n",
       "  </tbody>\n",
       "</table>\n",
       "</div>"
      ],
      "text/plain": [
       "                  High         Low        Open       Close      Volume  \\\n",
       "Date                                                                     \n",
       "2022-07-01  690.690002  666.359985  681.000000  681.789978  24781500.0   \n",
       "2022-07-05  699.440002  648.500000  669.000000  699.200012  28193700.0   \n",
       "2022-07-06  703.690002  681.559998  692.340027  695.200012  23951200.0   \n",
       "2022-07-07  736.090027  696.630005  701.760010  733.630005  27310200.0   \n",
       "2022-07-08  764.940002  723.479980  727.000000  752.289978  33343700.0   \n",
       "\n",
       "             Adj Close  \n",
       "Date                    \n",
       "2022-07-01  681.789978  \n",
       "2022-07-05  699.200012  \n",
       "2022-07-06  695.200012  \n",
       "2022-07-07  733.630005  \n",
       "2022-07-08  752.289978  "
      ]
     },
     "execution_count": 4,
     "metadata": {},
     "output_type": "execute_result"
    }
   ],
   "source": [
    "df_tesla.tail()"
   ]
  },
  {
   "cell_type": "code",
   "execution_count": 5,
   "metadata": {},
   "outputs": [
    {
     "data": {
      "text/plain": [
       "<AxesSubplot:xlabel='Date'>"
      ]
     },
     "execution_count": 5,
     "metadata": {},
     "output_type": "execute_result"
    },
    {
     "data": {
      "image/png": "[encoded data removed]",
      "text/plain": [
       "<Figure size 864x288 with 1 Axes>"
      ]
     },
     "metadata": {
      "needs_background": "light"
     },
     "output_type": "display_data"
    }
   ],
   "source": [
    "df_tesla['High'].plot(figsize=(12,4))"
   ]
  },
  {
   "cell_type": "code",
   "execution_count": 6,
   "metadata": {},
   "outputs": [
    {
     "data": {
      "text/plain": [
       "<AxesSubplot:xlabel='Date'>"
      ]
     },
     "execution_count": 6,
     "metadata": {},
     "output_type": "execute_result"
    },
    {
     "data": {
      "image/png": "[encoded data removed]",
      "text/plain": [
       "<Figure size 864x288 with 1 Axes>"
      ]
     },
     "metadata": {
      "needs_background": "light"
     },
     "output_type": "display_data"
    }
   ],
   "source": [
    "## xlimit and y limit\n",
    "df_tesla['High'].plot(xlim=['2020-01-01','2021-09-01'],figsize=(12,4))"
   ]
  },
  {
   "cell_type": "code",
   "execution_count": 7,
   "metadata": {},
   "outputs": [
    {
     "data": {
      "text/plain": [
       "<AxesSubplot:xlabel='Date'>"
      ]
     },
     "execution_count": 7,
     "metadata": {},
     "output_type": "execute_result"
    },
    {
     "data": {
      "image/png": "[encoded data removed]",
      "text/plain": [
       "<Figure size 864x288 with 1 Axes>"
      ]
     },
     "metadata": {
      "needs_background": "light"
     },
     "output_type": "display_data"
    }
   ],
   "source": [
    "## xlimit and y limit\n",
    "df_tesla['High'].plot(xlim=['2020-01-01','2021-09-01'],ylim=[0,900],figsize=(12,4))"
   ]
  },
  {
   "cell_type": "code",
   "execution_count": 8,
   "metadata": {},
   "outputs": [
    {
     "data": {
      "text/plain": [
       "<AxesSubplot:xlabel='Date'>"
      ]
     },
     "execution_count": 8,
     "metadata": {},
     "output_type": "execute_result"
    },
    {
     "data": {
      "image/png": "[encoded data removed]",
      "text/plain": [
       "<Figure size 864x288 with 1 Axes>"
      ]
     },
     "metadata": {
      "needs_background": "light"
     },
     "output_type": "display_data"
    }
   ],
   "source": [
    "## xlimit and y limit and coloring\n",
    "df_tesla['High'].plot(xlim=['2020-01-01','2021-09-01'],ylim=[0,900],figsize=(12,4),ls='--',c='green')"
   ]
  },
  {
   "cell_type": "code",
   "execution_count": 9,
   "metadata": {},
   "outputs": [
    {
     "data": {
      "text/plain": [
       "DatetimeIndex(['2017-07-11', '2017-07-12', '2017-07-13', '2017-07-14',\n",
       "               '2017-07-17', '2017-07-18', '2017-07-19', '2017-07-20',\n",
       "               '2017-07-21', '2017-07-24',\n",
       "               ...\n",
       "               '2022-06-24', '2022-06-27', '2022-06-28', '2022-06-29',\n",
       "               '2022-06-30', '2022-07-01', '2022-07-05', '2022-07-06',\n",
       "               '2022-07-07', '2022-07-08'],\n",
       "              dtype='datetime64[ns]', name='Date', length=1258, freq=None)"
      ]
     },
     "execution_count": 9,
     "metadata": {},
     "output_type": "execute_result"
    }
   ],
   "source": [
    "df_tesla.index"
   ]
  },
  {
   "cell_type": "code",
   "execution_count": 10,
   "metadata": {},
   "outputs": [],
   "source": [
    "index=df_tesla.loc['2020-01-01':'2021-09-01'].index\n",
    "share_open=df_tesla.loc['2020-01-01':'2021-09-01']['Open']"
   ]
  },
  {
   "cell_type": "code",
   "execution_count": 11,
   "metadata": {},
   "outputs": [
    {
     "data": {
      "text/plain": [
       "Date\n",
       "2020-01-02     84.900002\n",
       "2020-01-03     88.099998\n",
       "2020-01-06     88.094002\n",
       "2020-01-07     92.279999\n",
       "2020-01-08     94.739998\n",
       "                 ...    \n",
       "2021-08-26    708.309998\n",
       "2021-08-27    705.000000\n",
       "2021-08-30    714.719971\n",
       "2021-08-31    733.000000\n",
       "2021-09-01    734.080017\n",
       "Name: Open, Length: 421, dtype: float64"
      ]
     },
     "execution_count": 11,
     "metadata": {},
     "output_type": "execute_result"
    }
   ],
   "source": [
    "share_open"
   ]
  },
  {
   "cell_type": "code",
   "execution_count": 12,
   "metadata": {},
   "outputs": [
    {
     "data": {
      "text/plain": [
       "DatetimeIndex(['2020-01-02', '2020-01-03', '2020-01-06', '2020-01-07',\n",
       "               '2020-01-08', '2020-01-09', '2020-01-10', '2020-01-13',\n",
       "               '2020-01-14', '2020-01-15',\n",
       "               ...\n",
       "               '2021-08-19', '2021-08-20', '2021-08-23', '2021-08-24',\n",
       "               '2021-08-25', '2021-08-26', '2021-08-27', '2021-08-30',\n",
       "               '2021-08-31', '2021-09-01'],\n",
       "              dtype='datetime64[ns]', name='Date', length=421, freq=None)"
      ]
     },
     "execution_count": 12,
     "metadata": {},
     "output_type": "execute_result"
    }
   ],
   "source": [
    "index"
   ]
  },
  {
   "cell_type": "code",
   "execution_count": 13,
   "metadata": {},
   "outputs": [],
   "source": [
    "import matplotlib.pyplot as plt\n",
    "%matplotlib inline"
   ]
  },
  {
   "cell_type": "code",
   "execution_count": 14,
   "metadata": {},
   "outputs": [
    {
     "data": {
      "text/plain": [
       "[<matplotlib.lines.Line2D at 0x7fa5f7e96f70>]"
      ]
     },
     "execution_count": 14,
     "metadata": {},
     "output_type": "execute_result"
    },
    {
     "data": {
      "image/png": "[encoded data removed]",
      "text/plain": [
       "<Figure size 432x288 with 1 Axes>"
      ]
     },
     "metadata": {
      "needs_background": "light"
     },
     "output_type": "display_data"
    }
   ],
   "source": [
    "figure,axis=plt.subplots()\n",
    "plt.tight_layout()\n",
    "## Preventing overlapping\n",
    "figure.autofmt_xdate()\n",
    "axis.plot(index,share_open)"
   ]
  },
  {
   "cell_type": "code",
   "execution_count": 15,
   "metadata": {},
   "outputs": [],
   "source": [
    "## Datetime Index"
   ]
  },
  {
   "cell_type": "code",
   "execution_count": 16,
   "metadata": {},
   "outputs": [],
   "source": [
    "\n",
    "df_tesla=df_tesla.reset_index()"
   ]
  },
  {
   "cell_type": "code",
   "execution_count": 17,
   "metadata": {},
   "outputs": [
    {
     "name": "stdout",
     "output_type": "stream",
     "text": [
      "<class 'pandas.core.frame.DataFrame'>\n",
      "RangeIndex: 1258 entries, 0 to 1257\n",
      "Data columns (total 7 columns):\n",
      " #   Column     Non-Null Count  Dtype         \n",
      "---  ------     --------------  -----         \n",
      " 0   Date       1258 non-null   datetime64[ns]\n",
      " 1   High       1258 non-null   float64       \n",
      " 2   Low        1258 non-null   float64       \n",
      " 3   Open       1258 non-null   float64       \n",
      " 4   Close      1258 non-null   float64       \n",
      " 5   Volume     1258 non-null   float64       \n",
      " 6   Adj Close  1258 non-null   float64       \n",
      "dtypes: datetime64[ns](1), float64(6)\n",
      "memory usage: 68.9 KB\n"
     ]
    }
   ],
   "source": [
    "df_tesla.info()"
   ]
  },
  {
   "cell_type": "code",
   "execution_count": 18,
   "metadata": {},
   "outputs": [],
   "source": [
    "df_tesla=df_tesla.set_index('Date',drop=True)"
   ]
  },
  {
   "cell_type": "code",
   "execution_count": 19,
   "metadata": {},
   "outputs": [
    {
     "data": {
      "text/html": [
       "<div>\n",
       "<style scoped>\n",
       "    .dataframe tbody tr th:only-of-type {\n",
       "        vertical-align: middle;\n",
       "    }\n",
       "\n",
       "    .dataframe tbody tr th {\n",
       "        vertical-align: top;\n",
       "    }\n",
       "\n",
       "    .dataframe thead th {\n",
       "        text-align: right;\n",
       "    }\n",
       "</style>\n",
       "<table border=\"1\" class=\"dataframe\">\n",
       "  <thead>\n",
       "    <tr style=\"text-align: right;\">\n",
       "      <th></th>\n",
       "      <th>High</th>\n",
       "      <th>Low</th>\n",
       "      <th>Open</th>\n",
       "      <th>Close</th>\n",
       "      <th>Volume</th>\n",
       "      <th>Adj Close</th>\n",
       "    </tr>\n",
       "    <tr>\n",
       "      <th>Date</th>\n",
       "      <th></th>\n",
       "      <th></th>\n",
       "      <th></th>\n",
       "      <th></th>\n",
       "      <th></th>\n",
       "      <th></th>\n",
       "    </tr>\n",
       "  </thead>\n",
       "  <tbody>\n",
       "    <tr>\n",
       "      <th>2017-07-11</th>\n",
       "      <td>65.456001</td>\n",
       "      <td>62.860001</td>\n",
       "      <td>63.200001</td>\n",
       "      <td>65.444000</td>\n",
       "      <td>57797000.0</td>\n",
       "      <td>65.444000</td>\n",
       "    </tr>\n",
       "    <tr>\n",
       "      <th>2017-07-12</th>\n",
       "      <td>66.620003</td>\n",
       "      <td>64.900002</td>\n",
       "      <td>66.080002</td>\n",
       "      <td>65.903999</td>\n",
       "      <td>51730500.0</td>\n",
       "      <td>65.903999</td>\n",
       "    </tr>\n",
       "    <tr>\n",
       "      <th>2017-07-13</th>\n",
       "      <td>66.320000</td>\n",
       "      <td>63.993999</td>\n",
       "      <td>66.022003</td>\n",
       "      <td>64.681999</td>\n",
       "      <td>42972500.0</td>\n",
       "      <td>64.681999</td>\n",
       "    </tr>\n",
       "    <tr>\n",
       "      <th>2017-07-14</th>\n",
       "      <td>65.683998</td>\n",
       "      <td>64.244003</td>\n",
       "      <td>64.638000</td>\n",
       "      <td>65.556000</td>\n",
       "      <td>28126000.0</td>\n",
       "      <td>65.556000</td>\n",
       "    </tr>\n",
       "    <tr>\n",
       "      <th>2017-07-17</th>\n",
       "      <td>65.419998</td>\n",
       "      <td>62.689999</td>\n",
       "      <td>65.108002</td>\n",
       "      <td>63.914001</td>\n",
       "      <td>49384500.0</td>\n",
       "      <td>63.914001</td>\n",
       "    </tr>\n",
       "  </tbody>\n",
       "</table>\n",
       "</div>"
      ],
      "text/plain": [
       "                 High        Low       Open      Close      Volume  Adj Close\n",
       "Date                                                                         \n",
       "2017-07-11  65.456001  62.860001  63.200001  65.444000  57797000.0  65.444000\n",
       "2017-07-12  66.620003  64.900002  66.080002  65.903999  51730500.0  65.903999\n",
       "2017-07-13  66.320000  63.993999  66.022003  64.681999  42972500.0  64.681999\n",
       "2017-07-14  65.683998  64.244003  64.638000  65.556000  28126000.0  65.556000\n",
       "2017-07-17  65.419998  62.689999  65.108002  63.914001  49384500.0  63.914001"
      ]
     },
     "execution_count": 19,
     "metadata": {},
     "output_type": "execute_result"
    }
   ],
   "source": [
    "df_tesla.head()"
   ]
  },
  {
   "cell_type": "code",
   "execution_count": 20,
   "metadata": {},
   "outputs": [],
   "source": [
    "## datetime\n",
    "from datetime import datetime"
   ]
  },
  {
   "cell_type": "code",
   "execution_count": 21,
   "metadata": {},
   "outputs": [
    {
     "data": {
      "text/plain": [
       "datetime.datetime(2021, 11, 21, 0, 0)"
      ]
     },
     "execution_count": 21,
     "metadata": {},
     "output_type": "execute_result"
    }
   ],
   "source": [
    "datetime(2021,11,21)"
   ]
  },
  {
   "cell_type": "code",
   "execution_count": 22,
   "metadata": {},
   "outputs": [
    {
     "data": {
      "text/plain": [
       "datetime.datetime(2022, 7, 11, 10, 1, 51, 509355)"
      ]
     },
     "execution_count": 22,
     "metadata": {},
     "output_type": "execute_result"
    }
   ],
   "source": [
    "datetime.now()"
   ]
  },
  {
   "cell_type": "code",
   "execution_count": 23,
   "metadata": {},
   "outputs": [],
   "source": [
    "date=datetime(2021,11,21)"
   ]
  },
  {
   "cell_type": "code",
   "execution_count": 24,
   "metadata": {},
   "outputs": [
    {
     "data": {
      "text/plain": [
       "datetime.datetime(2021, 11, 21, 0, 0)"
      ]
     },
     "execution_count": 24,
     "metadata": {},
     "output_type": "execute_result"
    }
   ],
   "source": [
    "date"
   ]
  },
  {
   "cell_type": "code",
   "execution_count": 25,
   "metadata": {},
   "outputs": [
    {
     "data": {
      "text/plain": [
       "datetime.date(2021, 11, 21)"
      ]
     },
     "execution_count": 25,
     "metadata": {},
     "output_type": "execute_result"
    }
   ],
   "source": [
    "date.date()"
   ]
  },
  {
   "cell_type": "code",
   "execution_count": 26,
   "metadata": {},
   "outputs": [
    {
     "data": {
      "text/plain": [
       "21"
      ]
     },
     "execution_count": 26,
     "metadata": {},
     "output_type": "execute_result"
    }
   ],
   "source": [
    "date.day"
   ]
  },
  {
   "cell_type": "code",
   "execution_count": 27,
   "metadata": {},
   "outputs": [
    {
     "data": {
      "text/plain": [
       "6"
      ]
     },
     "execution_count": 27,
     "metadata": {},
     "output_type": "execute_result"
    }
   ],
   "source": [
    "date.weekday()"
   ]
  },
  {
   "cell_type": "code",
   "execution_count": 28,
   "metadata": {},
   "outputs": [
    {
     "data": {
      "text/plain": [
       "2021"
      ]
     },
     "execution_count": 28,
     "metadata": {},
     "output_type": "execute_result"
    }
   ],
   "source": [
    "date.year"
   ]
  },
  {
   "cell_type": "code",
   "execution_count": 29,
   "metadata": {},
   "outputs": [
    {
     "data": {
      "text/plain": [
       "11"
      ]
     },
     "execution_count": 29,
     "metadata": {},
     "output_type": "execute_result"
    }
   ],
   "source": [
    "date.month"
   ]
  },
  {
   "cell_type": "code",
   "execution_count": 31,
   "metadata": {},
   "outputs": [],
   "source": [
    "#Time Resampling"
   ]
  },
  {
   "cell_type": "code",
   "execution_count": 32,
   "metadata": {},
   "outputs": [
    {
     "data": {
      "text/html": [
       "<div>\n",
       "<style scoped>\n",
       "    .dataframe tbody tr th:only-of-type {\n",
       "        vertical-align: middle;\n",
       "    }\n",
       "\n",
       "    .dataframe tbody tr th {\n",
       "        vertical-align: top;\n",
       "    }\n",
       "\n",
       "    .dataframe thead th {\n",
       "        text-align: right;\n",
       "    }\n",
       "</style>\n",
       "<table border=\"1\" class=\"dataframe\">\n",
       "  <thead>\n",
       "    <tr style=\"text-align: right;\">\n",
       "      <th></th>\n",
       "      <th>High</th>\n",
       "      <th>Low</th>\n",
       "      <th>Open</th>\n",
       "      <th>Close</th>\n",
       "      <th>Volume</th>\n",
       "      <th>Adj Close</th>\n",
       "    </tr>\n",
       "    <tr>\n",
       "      <th>Date</th>\n",
       "      <th></th>\n",
       "      <th></th>\n",
       "      <th></th>\n",
       "      <th></th>\n",
       "      <th></th>\n",
       "      <th></th>\n",
       "    </tr>\n",
       "  </thead>\n",
       "  <tbody>\n",
       "    <tr>\n",
       "      <th>2017-07-11</th>\n",
       "      <td>65.456001</td>\n",
       "      <td>62.860001</td>\n",
       "      <td>63.200001</td>\n",
       "      <td>65.444000</td>\n",
       "      <td>57797000.0</td>\n",
       "      <td>65.444000</td>\n",
       "    </tr>\n",
       "    <tr>\n",
       "      <th>2017-07-12</th>\n",
       "      <td>66.620003</td>\n",
       "      <td>64.900002</td>\n",
       "      <td>66.080002</td>\n",
       "      <td>65.903999</td>\n",
       "      <td>51730500.0</td>\n",
       "      <td>65.903999</td>\n",
       "    </tr>\n",
       "    <tr>\n",
       "      <th>2017-07-13</th>\n",
       "      <td>66.320000</td>\n",
       "      <td>63.993999</td>\n",
       "      <td>66.022003</td>\n",
       "      <td>64.681999</td>\n",
       "      <td>42972500.0</td>\n",
       "      <td>64.681999</td>\n",
       "    </tr>\n",
       "    <tr>\n",
       "      <th>2017-07-14</th>\n",
       "      <td>65.683998</td>\n",
       "      <td>64.244003</td>\n",
       "      <td>64.638000</td>\n",
       "      <td>65.556000</td>\n",
       "      <td>28126000.0</td>\n",
       "      <td>65.556000</td>\n",
       "    </tr>\n",
       "    <tr>\n",
       "      <th>2017-07-17</th>\n",
       "      <td>65.419998</td>\n",
       "      <td>62.689999</td>\n",
       "      <td>65.108002</td>\n",
       "      <td>63.914001</td>\n",
       "      <td>49384500.0</td>\n",
       "      <td>63.914001</td>\n",
       "    </tr>\n",
       "  </tbody>\n",
       "</table>\n",
       "</div>"
      ],
      "text/plain": [
       "                 High        Low       Open      Close      Volume  Adj Close\n",
       "Date                                                                         \n",
       "2017-07-11  65.456001  62.860001  63.200001  65.444000  57797000.0  65.444000\n",
       "2017-07-12  66.620003  64.900002  66.080002  65.903999  51730500.0  65.903999\n",
       "2017-07-13  66.320000  63.993999  66.022003  64.681999  42972500.0  64.681999\n",
       "2017-07-14  65.683998  64.244003  64.638000  65.556000  28126000.0  65.556000\n",
       "2017-07-17  65.419998  62.689999  65.108002  63.914001  49384500.0  63.914001"
      ]
     },
     "execution_count": 32,
     "metadata": {},
     "output_type": "execute_result"
    }
   ],
   "source": [
    "df_tesla.head()"
   ]
  },
  {
   "cell_type": "code",
   "execution_count": 33,
   "metadata": {},
   "outputs": [
    {
     "data": {
      "text/html": [
       "<div>\n",
       "<style scoped>\n",
       "    .dataframe tbody tr th:only-of-type {\n",
       "        vertical-align: middle;\n",
       "    }\n",
       "\n",
       "    .dataframe tbody tr th {\n",
       "        vertical-align: top;\n",
       "    }\n",
       "\n",
       "    .dataframe thead th {\n",
       "        text-align: right;\n",
       "    }\n",
       "</style>\n",
       "<table border=\"1\" class=\"dataframe\">\n",
       "  <thead>\n",
       "    <tr style=\"text-align: right;\">\n",
       "      <th></th>\n",
       "      <th>High</th>\n",
       "      <th>Low</th>\n",
       "      <th>Open</th>\n",
       "      <th>Close</th>\n",
       "      <th>Volume</th>\n",
       "      <th>Adj Close</th>\n",
       "    </tr>\n",
       "    <tr>\n",
       "      <th>Date</th>\n",
       "      <th></th>\n",
       "      <th></th>\n",
       "      <th></th>\n",
       "      <th></th>\n",
       "      <th></th>\n",
       "      <th></th>\n",
       "    </tr>\n",
       "  </thead>\n",
       "  <tbody>\n",
       "    <tr>\n",
       "      <th>2017-12-31</th>\n",
       "      <td>60.891998</td>\n",
       "      <td>58.526001</td>\n",
       "      <td>59.900002</td>\n",
       "      <td>59.852001</td>\n",
       "      <td>15247500.0</td>\n",
       "      <td>59.852001</td>\n",
       "    </tr>\n",
       "    <tr>\n",
       "      <th>2018-12-31</th>\n",
       "      <td>52.066002</td>\n",
       "      <td>48.917999</td>\n",
       "      <td>50.556000</td>\n",
       "      <td>50.112000</td>\n",
       "      <td>15403500.0</td>\n",
       "      <td>50.112000</td>\n",
       "    </tr>\n",
       "    <tr>\n",
       "      <th>2019-12-31</th>\n",
       "      <td>37.335999</td>\n",
       "      <td>35.397999</td>\n",
       "      <td>36.220001</td>\n",
       "      <td>35.793999</td>\n",
       "      <td>12328000.0</td>\n",
       "      <td>35.793999</td>\n",
       "    </tr>\n",
       "    <tr>\n",
       "      <th>2020-12-31</th>\n",
       "      <td>80.972000</td>\n",
       "      <td>70.101997</td>\n",
       "      <td>74.940002</td>\n",
       "      <td>72.244003</td>\n",
       "      <td>17357700.0</td>\n",
       "      <td>72.244003</td>\n",
       "    </tr>\n",
       "    <tr>\n",
       "      <th>2021-12-31</th>\n",
       "      <td>566.210022</td>\n",
       "      <td>539.489990</td>\n",
       "      <td>552.549988</td>\n",
       "      <td>563.000000</td>\n",
       "      <td>9800600.0</td>\n",
       "      <td>563.000000</td>\n",
       "    </tr>\n",
       "    <tr>\n",
       "      <th>2022-12-31</th>\n",
       "      <td>653.919983</td>\n",
       "      <td>620.570007</td>\n",
       "      <td>623.849976</td>\n",
       "      <td>628.159973</td>\n",
       "      <td>16330900.0</td>\n",
       "      <td>628.159973</td>\n",
       "    </tr>\n",
       "  </tbody>\n",
       "</table>\n",
       "</div>"
      ],
      "text/plain": [
       "                  High         Low        Open       Close      Volume  \\\n",
       "Date                                                                     \n",
       "2017-12-31   60.891998   58.526001   59.900002   59.852001  15247500.0   \n",
       "2018-12-31   52.066002   48.917999   50.556000   50.112000  15403500.0   \n",
       "2019-12-31   37.335999   35.397999   36.220001   35.793999  12328000.0   \n",
       "2020-12-31   80.972000   70.101997   74.940002   72.244003  17357700.0   \n",
       "2021-12-31  566.210022  539.489990  552.549988  563.000000   9800600.0   \n",
       "2022-12-31  653.919983  620.570007  623.849976  628.159973  16330900.0   \n",
       "\n",
       "             Adj Close  \n",
       "Date                    \n",
       "2017-12-31   59.852001  \n",
       "2018-12-31   50.112000  \n",
       "2019-12-31   35.793999  \n",
       "2020-12-31   72.244003  \n",
       "2021-12-31  563.000000  \n",
       "2022-12-31  628.159973  "
      ]
     },
     "execution_count": 33,
     "metadata": {},
     "output_type": "execute_result"
    }
   ],
   "source": [
    "df_tesla.resample(rule='A').min()"
   ]
  },
  {
   "cell_type": "code",
   "execution_count": 34,
   "metadata": {},
   "outputs": [
    {
     "data": {
      "text/html": [
       "<div>\n",
       "<style scoped>\n",
       "    .dataframe tbody tr th:only-of-type {\n",
       "        vertical-align: middle;\n",
       "    }\n",
       "\n",
       "    .dataframe tbody tr th {\n",
       "        vertical-align: top;\n",
       "    }\n",
       "\n",
       "    .dataframe thead th {\n",
       "        text-align: right;\n",
       "    }\n",
       "</style>\n",
       "<table border=\"1\" class=\"dataframe\">\n",
       "  <thead>\n",
       "    <tr style=\"text-align: right;\">\n",
       "      <th></th>\n",
       "      <th>High</th>\n",
       "      <th>Low</th>\n",
       "      <th>Open</th>\n",
       "      <th>Close</th>\n",
       "      <th>Volume</th>\n",
       "      <th>Adj Close</th>\n",
       "    </tr>\n",
       "    <tr>\n",
       "      <th>Date</th>\n",
       "      <th></th>\n",
       "      <th></th>\n",
       "      <th></th>\n",
       "      <th></th>\n",
       "      <th></th>\n",
       "      <th></th>\n",
       "    </tr>\n",
       "  </thead>\n",
       "  <tbody>\n",
       "    <tr>\n",
       "      <th>2017-12-31</th>\n",
       "      <td>77.921997</td>\n",
       "      <td>75.536003</td>\n",
       "      <td>76.050003</td>\n",
       "      <td>77.000000</td>\n",
       "      <td>98957000.0</td>\n",
       "      <td>77.000000</td>\n",
       "    </tr>\n",
       "    <tr>\n",
       "      <th>2018-12-31</th>\n",
       "      <td>77.491997</td>\n",
       "      <td>73.424004</td>\n",
       "      <td>75.000000</td>\n",
       "      <td>75.914001</td>\n",
       "      <td>168248500.0</td>\n",
       "      <td>75.914001</td>\n",
       "    </tr>\n",
       "    <tr>\n",
       "      <th>2019-12-31</th>\n",
       "      <td>87.061996</td>\n",
       "      <td>85.269997</td>\n",
       "      <td>87.000000</td>\n",
       "      <td>86.188004</td>\n",
       "      <td>150030500.0</td>\n",
       "      <td>86.188004</td>\n",
       "    </tr>\n",
       "    <tr>\n",
       "      <th>2020-12-31</th>\n",
       "      <td>718.719971</td>\n",
       "      <td>691.119995</td>\n",
       "      <td>699.989990</td>\n",
       "      <td>705.669983</td>\n",
       "      <td>304694000.0</td>\n",
       "      <td>705.669983</td>\n",
       "    </tr>\n",
       "    <tr>\n",
       "      <th>2021-12-31</th>\n",
       "      <td>1243.489990</td>\n",
       "      <td>1217.000000</td>\n",
       "      <td>1234.410034</td>\n",
       "      <td>1229.910034</td>\n",
       "      <td>89396500.0</td>\n",
       "      <td>1229.910034</td>\n",
       "    </tr>\n",
       "    <tr>\n",
       "      <th>2022-12-31</th>\n",
       "      <td>1208.000000</td>\n",
       "      <td>1136.040039</td>\n",
       "      <td>1189.550049</td>\n",
       "      <td>1199.780029</td>\n",
       "      <td>50521900.0</td>\n",
       "      <td>1199.780029</td>\n",
       "    </tr>\n",
       "  </tbody>\n",
       "</table>\n",
       "</div>"
      ],
      "text/plain": [
       "                   High          Low         Open        Close       Volume  \\\n",
       "Date                                                                          \n",
       "2017-12-31    77.921997    75.536003    76.050003    77.000000   98957000.0   \n",
       "2018-12-31    77.491997    73.424004    75.000000    75.914001  168248500.0   \n",
       "2019-12-31    87.061996    85.269997    87.000000    86.188004  150030500.0   \n",
       "2020-12-31   718.719971   691.119995   699.989990   705.669983  304694000.0   \n",
       "2021-12-31  1243.489990  1217.000000  1234.410034  1229.910034   89396500.0   \n",
       "2022-12-31  1208.000000  1136.040039  1189.550049  1199.780029   50521900.0   \n",
       "\n",
       "              Adj Close  \n",
       "Date                     \n",
       "2017-12-31    77.000000  \n",
       "2018-12-31    75.914001  \n",
       "2019-12-31    86.188004  \n",
       "2020-12-31   705.669983  \n",
       "2021-12-31  1229.910034  \n",
       "2022-12-31  1199.780029  "
      ]
     },
     "execution_count": 34,
     "metadata": {},
     "output_type": "execute_result"
    }
   ],
   "source": [
    "df_tesla.resample(rule='A').max()"
   ]
  },
  {
   "cell_type": "code",
   "execution_count": 35,
   "metadata": {},
   "outputs": [
    {
     "data": {
      "text/plain": [
       "<AxesSubplot:xlabel='Date'>"
      ]
     },
     "execution_count": 35,
     "metadata": {},
     "output_type": "execute_result"
    },
    {
     "data": {
      "image/png": "[encoded data removed]",
      "text/plain": [
       "<Figure size 432x288 with 1 Axes>"
      ]
     },
     "metadata": {
      "needs_background": "light"
     },
     "output_type": "display_data"
    }
   ],
   "source": [
    "##year end frequency\n",
    "df_tesla.resample(rule='A').max()['Open'].plot()"
   ]
  },
  {
   "cell_type": "code",
   "execution_count": 36,
   "metadata": {},
   "outputs": [
    {
     "data": {
      "text/plain": [
       "<AxesSubplot:xlabel='Date'>"
      ]
     },
     "execution_count": 36,
     "metadata": {},
     "output_type": "execute_result"
    },
    {
     "data": {
      "image/png": "[encoded data removed]",
      "text/plain": [
       "<Figure size 432x288 with 1 Axes>"
      ]
     },
     "metadata": {
      "needs_background": "light"
     },
     "output_type": "display_data"
    }
   ],
   "source": [
    "##quaterly start frequency\n",
    "##https://towardsdatascience.com/resample-function-of-pandas-79b17ec82a78\n",
    "df_tesla.resample(rule='QS').max()['High'].plot()"
   ]
  },
  {
   "cell_type": "code",
   "execution_count": 37,
   "metadata": {},
   "outputs": [
    {
     "data": {
      "text/html": [
       "<div>\n",
       "<style scoped>\n",
       "    .dataframe tbody tr th:only-of-type {\n",
       "        vertical-align: middle;\n",
       "    }\n",
       "\n",
       "    .dataframe tbody tr th {\n",
       "        vertical-align: top;\n",
       "    }\n",
       "\n",
       "    .dataframe thead th {\n",
       "        text-align: right;\n",
       "    }\n",
       "</style>\n",
       "<table border=\"1\" class=\"dataframe\">\n",
       "  <thead>\n",
       "    <tr style=\"text-align: right;\">\n",
       "      <th></th>\n",
       "      <th>High</th>\n",
       "      <th>Low</th>\n",
       "      <th>Open</th>\n",
       "      <th>Close</th>\n",
       "      <th>Volume</th>\n",
       "      <th>Adj Close</th>\n",
       "    </tr>\n",
       "    <tr>\n",
       "      <th>Date</th>\n",
       "      <th></th>\n",
       "      <th></th>\n",
       "      <th></th>\n",
       "      <th></th>\n",
       "      <th></th>\n",
       "      <th></th>\n",
       "    </tr>\n",
       "  </thead>\n",
       "  <tbody>\n",
       "    <tr>\n",
       "      <th>2017-12-29</th>\n",
       "      <td>77.921997</td>\n",
       "      <td>75.536003</td>\n",
       "      <td>76.050003</td>\n",
       "      <td>77.000000</td>\n",
       "      <td>98957000.0</td>\n",
       "      <td>77.000000</td>\n",
       "    </tr>\n",
       "    <tr>\n",
       "      <th>2018-12-31</th>\n",
       "      <td>77.491997</td>\n",
       "      <td>73.424004</td>\n",
       "      <td>75.000000</td>\n",
       "      <td>75.914001</td>\n",
       "      <td>168248500.0</td>\n",
       "      <td>75.914001</td>\n",
       "    </tr>\n",
       "    <tr>\n",
       "      <th>2019-12-31</th>\n",
       "      <td>87.061996</td>\n",
       "      <td>85.269997</td>\n",
       "      <td>87.000000</td>\n",
       "      <td>86.188004</td>\n",
       "      <td>150030500.0</td>\n",
       "      <td>86.188004</td>\n",
       "    </tr>\n",
       "    <tr>\n",
       "      <th>2020-12-31</th>\n",
       "      <td>718.719971</td>\n",
       "      <td>691.119995</td>\n",
       "      <td>699.989990</td>\n",
       "      <td>705.669983</td>\n",
       "      <td>304694000.0</td>\n",
       "      <td>705.669983</td>\n",
       "    </tr>\n",
       "    <tr>\n",
       "      <th>2021-12-31</th>\n",
       "      <td>1243.489990</td>\n",
       "      <td>1217.000000</td>\n",
       "      <td>1234.410034</td>\n",
       "      <td>1229.910034</td>\n",
       "      <td>89396500.0</td>\n",
       "      <td>1229.910034</td>\n",
       "    </tr>\n",
       "    <tr>\n",
       "      <th>2022-12-30</th>\n",
       "      <td>1208.000000</td>\n",
       "      <td>1136.040039</td>\n",
       "      <td>1189.550049</td>\n",
       "      <td>1199.780029</td>\n",
       "      <td>50521900.0</td>\n",
       "      <td>1199.780029</td>\n",
       "    </tr>\n",
       "  </tbody>\n",
       "</table>\n",
       "</div>"
      ],
      "text/plain": [
       "                   High          Low         Open        Close       Volume  \\\n",
       "Date                                                                          \n",
       "2017-12-29    77.921997    75.536003    76.050003    77.000000   98957000.0   \n",
       "2018-12-31    77.491997    73.424004    75.000000    75.914001  168248500.0   \n",
       "2019-12-31    87.061996    85.269997    87.000000    86.188004  150030500.0   \n",
       "2020-12-31   718.719971   691.119995   699.989990   705.669983  304694000.0   \n",
       "2021-12-31  1243.489990  1217.000000  1234.410034  1229.910034   89396500.0   \n",
       "2022-12-30  1208.000000  1136.040039  1189.550049  1199.780029   50521900.0   \n",
       "\n",
       "              Adj Close  \n",
       "Date                     \n",
       "2017-12-29    77.000000  \n",
       "2018-12-31    75.914001  \n",
       "2019-12-31    86.188004  \n",
       "2020-12-31   705.669983  \n",
       "2021-12-31  1229.910034  \n",
       "2022-12-30  1199.780029  "
      ]
     },
     "execution_count": 37,
     "metadata": {},
     "output_type": "execute_result"
    }
   ],
   "source": [
    "##Business End Frequency\n",
    "##https://towardsdatascience.com/resample-function-of-pandas-79b17ec82a78\n",
    "df_tesla.resample(rule='BA').max()"
   ]
  },
  {
   "cell_type": "code",
   "execution_count": 38,
   "metadata": {},
   "outputs": [
    {
     "data": {
      "text/html": [
       "<div>\n",
       "<style scoped>\n",
       "    .dataframe tbody tr th:only-of-type {\n",
       "        vertical-align: middle;\n",
       "    }\n",
       "\n",
       "    .dataframe tbody tr th {\n",
       "        vertical-align: top;\n",
       "    }\n",
       "\n",
       "    .dataframe thead th {\n",
       "        text-align: right;\n",
       "    }\n",
       "</style>\n",
       "<table border=\"1\" class=\"dataframe\">\n",
       "  <thead>\n",
       "    <tr style=\"text-align: right;\">\n",
       "      <th></th>\n",
       "      <th>High</th>\n",
       "      <th>Low</th>\n",
       "      <th>Open</th>\n",
       "      <th>Close</th>\n",
       "      <th>Volume</th>\n",
       "      <th>Adj Close</th>\n",
       "    </tr>\n",
       "    <tr>\n",
       "      <th>Date</th>\n",
       "      <th></th>\n",
       "      <th></th>\n",
       "      <th></th>\n",
       "      <th></th>\n",
       "      <th></th>\n",
       "      <th></th>\n",
       "    </tr>\n",
       "  </thead>\n",
       "  <tbody>\n",
       "    <tr>\n",
       "      <th>2017-07-03</th>\n",
       "      <td>77.921997</td>\n",
       "      <td>75.536003</td>\n",
       "      <td>76.050003</td>\n",
       "      <td>77.000000</td>\n",
       "      <td>67675000.0</td>\n",
       "      <td>77.000000</td>\n",
       "    </tr>\n",
       "    <tr>\n",
       "      <th>2017-10-02</th>\n",
       "      <td>72.599998</td>\n",
       "      <td>70.825996</td>\n",
       "      <td>71.396004</td>\n",
       "      <td>71.930000</td>\n",
       "      <td>98957000.0</td>\n",
       "      <td>71.930000</td>\n",
       "    </tr>\n",
       "    <tr>\n",
       "      <th>2018-01-01</th>\n",
       "      <td>72.099998</td>\n",
       "      <td>70.472000</td>\n",
       "      <td>72.000000</td>\n",
       "      <td>71.484001</td>\n",
       "      <td>105007000.0</td>\n",
       "      <td>71.484001</td>\n",
       "    </tr>\n",
       "    <tr>\n",
       "      <th>2018-04-02</th>\n",
       "      <td>74.746002</td>\n",
       "      <td>70.900002</td>\n",
       "      <td>73.031998</td>\n",
       "      <td>74.166000</td>\n",
       "      <td>111737000.0</td>\n",
       "      <td>74.166000</td>\n",
       "    </tr>\n",
       "    <tr>\n",
       "      <th>2018-07-02</th>\n",
       "      <td>77.491997</td>\n",
       "      <td>73.424004</td>\n",
       "      <td>73.818001</td>\n",
       "      <td>75.914001</td>\n",
       "      <td>168248500.0</td>\n",
       "      <td>75.914001</td>\n",
       "    </tr>\n",
       "    <tr>\n",
       "      <th>2018-10-01</th>\n",
       "      <td>75.898003</td>\n",
       "      <td>73.349998</td>\n",
       "      <td>75.000000</td>\n",
       "      <td>75.358002</td>\n",
       "      <td>137127500.0</td>\n",
       "      <td>75.358002</td>\n",
       "    </tr>\n",
       "    <tr>\n",
       "      <th>2019-01-01</th>\n",
       "      <td>70.400002</td>\n",
       "      <td>68.830002</td>\n",
       "      <td>69.241997</td>\n",
       "      <td>69.461998</td>\n",
       "      <td>120754000.0</td>\n",
       "      <td>69.461998</td>\n",
       "    </tr>\n",
       "    <tr>\n",
       "      <th>2019-04-01</th>\n",
       "      <td>59.234001</td>\n",
       "      <td>57.433998</td>\n",
       "      <td>57.660000</td>\n",
       "      <td>58.362000</td>\n",
       "      <td>132735500.0</td>\n",
       "      <td>58.362000</td>\n",
       "    </tr>\n",
       "    <tr>\n",
       "      <th>2019-07-01</th>\n",
       "      <td>53.214001</td>\n",
       "      <td>51.632000</td>\n",
       "      <td>51.834000</td>\n",
       "      <td>52.976002</td>\n",
       "      <td>112091500.0</td>\n",
       "      <td>52.976002</td>\n",
       "    </tr>\n",
       "    <tr>\n",
       "      <th>2019-10-01</th>\n",
       "      <td>87.061996</td>\n",
       "      <td>85.269997</td>\n",
       "      <td>87.000000</td>\n",
       "      <td>86.188004</td>\n",
       "      <td>150030500.0</td>\n",
       "      <td>86.188004</td>\n",
       "    </tr>\n",
       "    <tr>\n",
       "      <th>2020-01-01</th>\n",
       "      <td>193.798004</td>\n",
       "      <td>180.203995</td>\n",
       "      <td>184.699997</td>\n",
       "      <td>183.483994</td>\n",
       "      <td>304694000.0</td>\n",
       "      <td>183.483994</td>\n",
       "    </tr>\n",
       "    <tr>\n",
       "      <th>2020-04-01</th>\n",
       "      <td>217.537994</td>\n",
       "      <td>200.746002</td>\n",
       "      <td>202.556000</td>\n",
       "      <td>215.962006</td>\n",
       "      <td>162659000.0</td>\n",
       "      <td>215.962006</td>\n",
       "    </tr>\n",
       "    <tr>\n",
       "      <th>2020-07-01</th>\n",
       "      <td>502.489990</td>\n",
       "      <td>470.510010</td>\n",
       "      <td>502.140015</td>\n",
       "      <td>498.320007</td>\n",
       "      <td>194927000.0</td>\n",
       "      <td>498.320007</td>\n",
       "    </tr>\n",
       "    <tr>\n",
       "      <th>2020-10-01</th>\n",
       "      <td>718.719971</td>\n",
       "      <td>691.119995</td>\n",
       "      <td>699.989990</td>\n",
       "      <td>705.669983</td>\n",
       "      <td>222126200.0</td>\n",
       "      <td>705.669983</td>\n",
       "    </tr>\n",
       "    <tr>\n",
       "      <th>2021-01-01</th>\n",
       "      <td>900.400024</td>\n",
       "      <td>871.599976</td>\n",
       "      <td>891.380005</td>\n",
       "      <td>883.090027</td>\n",
       "      <td>89396500.0</td>\n",
       "      <td>883.090027</td>\n",
       "    </tr>\n",
       "    <tr>\n",
       "      <th>2021-04-01</th>\n",
       "      <td>780.789978</td>\n",
       "      <td>732.609985</td>\n",
       "      <td>770.700012</td>\n",
       "      <td>762.320007</td>\n",
       "      <td>49017400.0</td>\n",
       "      <td>762.320007</td>\n",
       "    </tr>\n",
       "    <tr>\n",
       "      <th>2021-07-01</th>\n",
       "      <td>799.000000</td>\n",
       "      <td>775.000000</td>\n",
       "      <td>787.200012</td>\n",
       "      <td>791.359985</td>\n",
       "      <td>33615800.0</td>\n",
       "      <td>791.359985</td>\n",
       "    </tr>\n",
       "    <tr>\n",
       "      <th>2021-10-01</th>\n",
       "      <td>1243.489990</td>\n",
       "      <td>1217.000000</td>\n",
       "      <td>1234.410034</td>\n",
       "      <td>1229.910034</td>\n",
       "      <td>62852100.0</td>\n",
       "      <td>1229.910034</td>\n",
       "    </tr>\n",
       "    <tr>\n",
       "      <th>2022-01-03</th>\n",
       "      <td>1208.000000</td>\n",
       "      <td>1136.040039</td>\n",
       "      <td>1189.550049</td>\n",
       "      <td>1199.780029</td>\n",
       "      <td>50521900.0</td>\n",
       "      <td>1199.780029</td>\n",
       "    </tr>\n",
       "    <tr>\n",
       "      <th>2022-04-01</th>\n",
       "      <td>1152.869995</td>\n",
       "      <td>1087.300049</td>\n",
       "      <td>1136.300049</td>\n",
       "      <td>1145.449951</td>\n",
       "      <td>48324400.0</td>\n",
       "      <td>1145.449951</td>\n",
       "    </tr>\n",
       "    <tr>\n",
       "      <th>2022-07-01</th>\n",
       "      <td>764.940002</td>\n",
       "      <td>723.479980</td>\n",
       "      <td>727.000000</td>\n",
       "      <td>752.289978</td>\n",
       "      <td>33343700.0</td>\n",
       "      <td>752.289978</td>\n",
       "    </tr>\n",
       "  </tbody>\n",
       "</table>\n",
       "</div>"
      ],
      "text/plain": [
       "                   High          Low         Open        Close       Volume  \\\n",
       "Date                                                                          \n",
       "2017-07-03    77.921997    75.536003    76.050003    77.000000   67675000.0   \n",
       "2017-10-02    72.599998    70.825996    71.396004    71.930000   98957000.0   \n",
       "2018-01-01    72.099998    70.472000    72.000000    71.484001  105007000.0   \n",
       "2018-04-02    74.746002    70.900002    73.031998    74.166000  111737000.0   \n",
       "2018-07-02    77.491997    73.424004    73.818001    75.914001  168248500.0   \n",
       "2018-10-01    75.898003    73.349998    75.000000    75.358002  137127500.0   \n",
       "2019-01-01    70.400002    68.830002    69.241997    69.461998  120754000.0   \n",
       "2019-04-01    59.234001    57.433998    57.660000    58.362000  132735500.0   \n",
       "2019-07-01    53.214001    51.632000    51.834000    52.976002  112091500.0   \n",
       "2019-10-01    87.061996    85.269997    87.000000    86.188004  150030500.0   \n",
       "2020-01-01   193.798004   180.203995   184.699997   183.483994  304694000.0   \n",
       "2020-04-01   217.537994   200.746002   202.556000   215.962006  162659000.0   \n",
       "2020-07-01   502.489990   470.510010   502.140015   498.320007  194927000.0   \n",
       "2020-10-01   718.719971   691.119995   699.989990   705.669983  222126200.0   \n",
       "2021-01-01   900.400024   871.599976   891.380005   883.090027   89396500.0   \n",
       "2021-04-01   780.789978   732.609985   770.700012   762.320007   49017400.0   \n",
       "2021-07-01   799.000000   775.000000   787.200012   791.359985   33615800.0   \n",
       "2021-10-01  1243.489990  1217.000000  1234.410034  1229.910034   62852100.0   \n",
       "2022-01-03  1208.000000  1136.040039  1189.550049  1199.780029   50521900.0   \n",
       "2022-04-01  1152.869995  1087.300049  1136.300049  1145.449951   48324400.0   \n",
       "2022-07-01   764.940002   723.479980   727.000000   752.289978   33343700.0   \n",
       "\n",
       "              Adj Close  \n",
       "Date                     \n",
       "2017-07-03    77.000000  \n",
       "2017-10-02    71.930000  \n",
       "2018-01-01    71.484001  \n",
       "2018-04-02    74.166000  \n",
       "2018-07-02    75.914001  \n",
       "2018-10-01    75.358002  \n",
       "2019-01-01    69.461998  \n",
       "2019-04-01    58.362000  \n",
       "2019-07-01    52.976002  \n",
       "2019-10-01    86.188004  \n",
       "2020-01-01   183.483994  \n",
       "2020-04-01   215.962006  \n",
       "2020-07-01   498.320007  \n",
       "2020-10-01   705.669983  \n",
       "2021-01-01   883.090027  \n",
       "2021-04-01   762.320007  \n",
       "2021-07-01   791.359985  \n",
       "2021-10-01  1229.910034  \n",
       "2022-01-03  1199.780029  \n",
       "2022-04-01  1145.449951  \n",
       "2022-07-01   752.289978  "
      ]
     },
     "execution_count": 38,
     "metadata": {},
     "output_type": "execute_result"
    }
   ],
   "source": [
    "df_tesla.resample(rule='BQS').max()"
   ]
  },
  {
   "cell_type": "code",
   "execution_count": 39,
   "metadata": {},
   "outputs": [
    {
     "data": {
      "text/plain": [
       "<AxesSubplot:xlabel='Date'>"
      ]
     },
     "execution_count": 39,
     "metadata": {},
     "output_type": "execute_result"
    },
    {
     "data": {
      "image/png": "[encoded data removed]",
      "text/plain": [
       "<Figure size 432x288 with 1 Axes>"
      ]
     },
     "metadata": {
      "needs_background": "light"
     },
     "output_type": "display_data"
    }
   ],
   "source": [
    "##plotting\n",
    "df_tesla['Open'].resample(rule='A').mean().plot(kind='bar')"
   ]
  },
  {
   "cell_type": "code",
   "execution_count": 40,
   "metadata": {},
   "outputs": [
    {
     "data": {
      "text/plain": [
       "<AxesSubplot:xlabel='Date'>"
      ]
     },
     "execution_count": 40,
     "metadata": {},
     "output_type": "execute_result"
    },
    {
     "data": {
      "image/png": "[encoded data removed]",
      "text/plain": [
       "<Figure size 1080x432 with 1 Axes>"
      ]
     },
     "metadata": {
      "needs_background": "light"
     },
     "output_type": "display_data"
    }
   ],
   "source": [
    "df_tesla['Open'].resample(rule='M').max().plot(kind='bar',figsize=(15,6))"
   ]
  },
  {
   "cell_type": "code",
   "execution_count": 41,
   "metadata": {},
   "outputs": [
    {
     "data": {
      "text/plain": [
       "Date\n",
       "2017-07-11          NaN\n",
       "2017-07-12          NaN\n",
       "2017-07-13          NaN\n",
       "2017-07-14          NaN\n",
       "2017-07-17          NaN\n",
       "2017-07-18          NaN\n",
       "2017-07-19          NaN\n",
       "2017-07-20          NaN\n",
       "2017-07-21          NaN\n",
       "2017-07-24          NaN\n",
       "2017-07-25    69.120003\n",
       "2017-07-26    69.120003\n",
       "2017-07-27    69.500000\n",
       "2017-07-28    69.500000\n",
       "2017-07-31    69.500000\n",
       "2017-08-01    69.500000\n",
       "2017-08-02    69.500000\n",
       "2017-08-03    70.000000\n",
       "2017-08-04    71.454002\n",
       "2017-08-07    71.896004\n",
       "Name: High, dtype: float64"
      ]
     },
     "execution_count": 41,
     "metadata": {},
     "output_type": "execute_result"
    }
   ],
   "source": [
    "df_tesla['High'].rolling(11).max().head(20)"
   ]
  },
  {
   "cell_type": "code",
   "execution_count": 42,
   "metadata": {},
   "outputs": [
    {
     "data": {
      "text/html": [
       "<div>\n",
       "<style scoped>\n",
       "    .dataframe tbody tr th:only-of-type {\n",
       "        vertical-align: middle;\n",
       "    }\n",
       "\n",
       "    .dataframe tbody tr th {\n",
       "        vertical-align: top;\n",
       "    }\n",
       "\n",
       "    .dataframe thead th {\n",
       "        text-align: right;\n",
       "    }\n",
       "</style>\n",
       "<table border=\"1\" class=\"dataframe\">\n",
       "  <thead>\n",
       "    <tr style=\"text-align: right;\">\n",
       "      <th></th>\n",
       "      <th>High</th>\n",
       "      <th>Low</th>\n",
       "      <th>Open</th>\n",
       "      <th>Close</th>\n",
       "      <th>Volume</th>\n",
       "      <th>Adj Close</th>\n",
       "    </tr>\n",
       "    <tr>\n",
       "      <th>Date</th>\n",
       "      <th></th>\n",
       "      <th></th>\n",
       "      <th></th>\n",
       "      <th></th>\n",
       "      <th></th>\n",
       "      <th></th>\n",
       "    </tr>\n",
       "  </thead>\n",
       "  <tbody>\n",
       "    <tr>\n",
       "      <th>2017-07-11</th>\n",
       "      <td>65.456001</td>\n",
       "      <td>62.860001</td>\n",
       "      <td>63.200001</td>\n",
       "      <td>65.444000</td>\n",
       "      <td>57797000.0</td>\n",
       "      <td>65.444000</td>\n",
       "    </tr>\n",
       "    <tr>\n",
       "      <th>2017-07-12</th>\n",
       "      <td>66.620003</td>\n",
       "      <td>64.900002</td>\n",
       "      <td>66.080002</td>\n",
       "      <td>65.903999</td>\n",
       "      <td>51730500.0</td>\n",
       "      <td>65.903999</td>\n",
       "    </tr>\n",
       "    <tr>\n",
       "      <th>2017-07-13</th>\n",
       "      <td>66.320000</td>\n",
       "      <td>63.993999</td>\n",
       "      <td>66.022003</td>\n",
       "      <td>64.681999</td>\n",
       "      <td>42972500.0</td>\n",
       "      <td>64.681999</td>\n",
       "    </tr>\n",
       "    <tr>\n",
       "      <th>2017-07-14</th>\n",
       "      <td>65.683998</td>\n",
       "      <td>64.244003</td>\n",
       "      <td>64.638000</td>\n",
       "      <td>65.556000</td>\n",
       "      <td>28126000.0</td>\n",
       "      <td>65.556000</td>\n",
       "    </tr>\n",
       "    <tr>\n",
       "      <th>2017-07-17</th>\n",
       "      <td>65.419998</td>\n",
       "      <td>62.689999</td>\n",
       "      <td>65.108002</td>\n",
       "      <td>63.914001</td>\n",
       "      <td>49384500.0</td>\n",
       "      <td>63.914001</td>\n",
       "    </tr>\n",
       "  </tbody>\n",
       "</table>\n",
       "</div>"
      ],
      "text/plain": [
       "                 High        Low       Open      Close      Volume  Adj Close\n",
       "Date                                                                         \n",
       "2017-07-11  65.456001  62.860001  63.200001  65.444000  57797000.0  65.444000\n",
       "2017-07-12  66.620003  64.900002  66.080002  65.903999  51730500.0  65.903999\n",
       "2017-07-13  66.320000  63.993999  66.022003  64.681999  42972500.0  64.681999\n",
       "2017-07-14  65.683998  64.244003  64.638000  65.556000  28126000.0  65.556000\n",
       "2017-07-17  65.419998  62.689999  65.108002  63.914001  49384500.0  63.914001"
      ]
     },
     "execution_count": 42,
     "metadata": {},
     "output_type": "execute_result"
    }
   ],
   "source": [
    "df_tesla.head()"
   ]
  },
  {
   "cell_type": "code",
   "execution_count": 43,
   "metadata": {},
   "outputs": [],
   "source": [
    "df_tesla['Open:30 days rolling']=df_tesla['Open'].rolling(30).mean()"
   ]
  },
  {
   "cell_type": "code",
   "execution_count": 44,
   "metadata": {},
   "outputs": [
    {
     "data": {
      "text/html": [
       "<div>\n",
       "<style scoped>\n",
       "    .dataframe tbody tr th:only-of-type {\n",
       "        vertical-align: middle;\n",
       "    }\n",
       "\n",
       "    .dataframe tbody tr th {\n",
       "        vertical-align: top;\n",
       "    }\n",
       "\n",
       "    .dataframe thead th {\n",
       "        text-align: right;\n",
       "    }\n",
       "</style>\n",
       "<table border=\"1\" class=\"dataframe\">\n",
       "  <thead>\n",
       "    <tr style=\"text-align: right;\">\n",
       "      <th></th>\n",
       "      <th>High</th>\n",
       "      <th>Low</th>\n",
       "      <th>Open</th>\n",
       "      <th>Close</th>\n",
       "      <th>Volume</th>\n",
       "      <th>Adj Close</th>\n",
       "      <th>Open:30 days rolling</th>\n",
       "    </tr>\n",
       "    <tr>\n",
       "      <th>Date</th>\n",
       "      <th></th>\n",
       "      <th></th>\n",
       "      <th></th>\n",
       "      <th></th>\n",
       "      <th></th>\n",
       "      <th></th>\n",
       "      <th></th>\n",
       "    </tr>\n",
       "  </thead>\n",
       "  <tbody>\n",
       "    <tr>\n",
       "      <th>2017-07-11</th>\n",
       "      <td>65.456001</td>\n",
       "      <td>62.860001</td>\n",
       "      <td>63.200001</td>\n",
       "      <td>65.444000</td>\n",
       "      <td>57797000.0</td>\n",
       "      <td>65.444000</td>\n",
       "      <td>NaN</td>\n",
       "    </tr>\n",
       "    <tr>\n",
       "      <th>2017-07-12</th>\n",
       "      <td>66.620003</td>\n",
       "      <td>64.900002</td>\n",
       "      <td>66.080002</td>\n",
       "      <td>65.903999</td>\n",
       "      <td>51730500.0</td>\n",
       "      <td>65.903999</td>\n",
       "      <td>NaN</td>\n",
       "    </tr>\n",
       "    <tr>\n",
       "      <th>2017-07-13</th>\n",
       "      <td>66.320000</td>\n",
       "      <td>63.993999</td>\n",
       "      <td>66.022003</td>\n",
       "      <td>64.681999</td>\n",
       "      <td>42972500.0</td>\n",
       "      <td>64.681999</td>\n",
       "      <td>NaN</td>\n",
       "    </tr>\n",
       "    <tr>\n",
       "      <th>2017-07-14</th>\n",
       "      <td>65.683998</td>\n",
       "      <td>64.244003</td>\n",
       "      <td>64.638000</td>\n",
       "      <td>65.556000</td>\n",
       "      <td>28126000.0</td>\n",
       "      <td>65.556000</td>\n",
       "      <td>NaN</td>\n",
       "    </tr>\n",
       "    <tr>\n",
       "      <th>2017-07-17</th>\n",
       "      <td>65.419998</td>\n",
       "      <td>62.689999</td>\n",
       "      <td>65.108002</td>\n",
       "      <td>63.914001</td>\n",
       "      <td>49384500.0</td>\n",
       "      <td>63.914001</td>\n",
       "      <td>NaN</td>\n",
       "    </tr>\n",
       "    <tr>\n",
       "      <th>2017-07-18</th>\n",
       "      <td>65.825996</td>\n",
       "      <td>63.132000</td>\n",
       "      <td>63.500000</td>\n",
       "      <td>65.648003</td>\n",
       "      <td>31868500.0</td>\n",
       "      <td>65.648003</td>\n",
       "      <td>NaN</td>\n",
       "    </tr>\n",
       "    <tr>\n",
       "      <th>2017-07-19</th>\n",
       "      <td>66.330002</td>\n",
       "      <td>64.643997</td>\n",
       "      <td>65.646004</td>\n",
       "      <td>65.052002</td>\n",
       "      <td>31785000.0</td>\n",
       "      <td>65.052002</td>\n",
       "      <td>NaN</td>\n",
       "    </tr>\n",
       "    <tr>\n",
       "      <th>2017-07-20</th>\n",
       "      <td>66.043999</td>\n",
       "      <td>64.839996</td>\n",
       "      <td>65.379997</td>\n",
       "      <td>65.984001</td>\n",
       "      <td>25831000.0</td>\n",
       "      <td>65.984001</td>\n",
       "      <td>NaN</td>\n",
       "    </tr>\n",
       "    <tr>\n",
       "      <th>2017-07-21</th>\n",
       "      <td>66.251999</td>\n",
       "      <td>65.160004</td>\n",
       "      <td>65.891998</td>\n",
       "      <td>65.680000</td>\n",
       "      <td>24508000.0</td>\n",
       "      <td>65.680000</td>\n",
       "      <td>NaN</td>\n",
       "    </tr>\n",
       "    <tr>\n",
       "      <th>2017-07-24</th>\n",
       "      <td>68.680000</td>\n",
       "      <td>66.001999</td>\n",
       "      <td>66.047997</td>\n",
       "      <td>68.503998</td>\n",
       "      <td>43185500.0</td>\n",
       "      <td>68.503998</td>\n",
       "      <td>NaN</td>\n",
       "    </tr>\n",
       "    <tr>\n",
       "      <th>2017-07-25</th>\n",
       "      <td>69.120003</td>\n",
       "      <td>66.830002</td>\n",
       "      <td>69.000000</td>\n",
       "      <td>67.919998</td>\n",
       "      <td>34946000.0</td>\n",
       "      <td>67.919998</td>\n",
       "      <td>NaN</td>\n",
       "    </tr>\n",
       "    <tr>\n",
       "      <th>2017-07-26</th>\n",
       "      <td>69.099998</td>\n",
       "      <td>67.624001</td>\n",
       "      <td>68.071999</td>\n",
       "      <td>68.769997</td>\n",
       "      <td>24104000.0</td>\n",
       "      <td>68.769997</td>\n",
       "      <td>NaN</td>\n",
       "    </tr>\n",
       "    <tr>\n",
       "      <th>2017-07-27</th>\n",
       "      <td>69.500000</td>\n",
       "      <td>65.258003</td>\n",
       "      <td>69.199997</td>\n",
       "      <td>66.891998</td>\n",
       "      <td>41512000.0</td>\n",
       "      <td>66.891998</td>\n",
       "      <td>NaN</td>\n",
       "    </tr>\n",
       "    <tr>\n",
       "      <th>2017-07-28</th>\n",
       "      <td>67.919998</td>\n",
       "      <td>66.501999</td>\n",
       "      <td>67.377998</td>\n",
       "      <td>67.014000</td>\n",
       "      <td>24402000.0</td>\n",
       "      <td>67.014000</td>\n",
       "      <td>NaN</td>\n",
       "    </tr>\n",
       "    <tr>\n",
       "      <th>2017-07-31</th>\n",
       "      <td>68.297997</td>\n",
       "      <td>64.208000</td>\n",
       "      <td>67.099998</td>\n",
       "      <td>64.694000</td>\n",
       "      <td>42675500.0</td>\n",
       "      <td>64.694000</td>\n",
       "      <td>NaN</td>\n",
       "    </tr>\n",
       "    <tr>\n",
       "      <th>2017-08-01</th>\n",
       "      <td>64.889999</td>\n",
       "      <td>63.226002</td>\n",
       "      <td>64.599998</td>\n",
       "      <td>63.914001</td>\n",
       "      <td>41515500.0</td>\n",
       "      <td>63.914001</td>\n",
       "      <td>NaN</td>\n",
       "    </tr>\n",
       "    <tr>\n",
       "      <th>2017-08-02</th>\n",
       "      <td>65.424004</td>\n",
       "      <td>62.243999</td>\n",
       "      <td>63.787998</td>\n",
       "      <td>65.178001</td>\n",
       "      <td>65457500.0</td>\n",
       "      <td>65.178001</td>\n",
       "      <td>NaN</td>\n",
       "    </tr>\n",
       "    <tr>\n",
       "      <th>2017-08-03</th>\n",
       "      <td>70.000000</td>\n",
       "      <td>68.629997</td>\n",
       "      <td>69.066002</td>\n",
       "      <td>69.417999</td>\n",
       "      <td>67675000.0</td>\n",
       "      <td>69.417999</td>\n",
       "      <td>NaN</td>\n",
       "    </tr>\n",
       "    <tr>\n",
       "      <th>2017-08-04</th>\n",
       "      <td>71.454002</td>\n",
       "      <td>68.660004</td>\n",
       "      <td>69.400002</td>\n",
       "      <td>71.382004</td>\n",
       "      <td>46344500.0</td>\n",
       "      <td>71.382004</td>\n",
       "      <td>NaN</td>\n",
       "    </tr>\n",
       "    <tr>\n",
       "      <th>2017-08-07</th>\n",
       "      <td>71.896004</td>\n",
       "      <td>70.550003</td>\n",
       "      <td>71.470001</td>\n",
       "      <td>71.033997</td>\n",
       "      <td>31622500.0</td>\n",
       "      <td>71.033997</td>\n",
       "      <td>NaN</td>\n",
       "    </tr>\n",
       "    <tr>\n",
       "      <th>2017-08-08</th>\n",
       "      <td>73.716003</td>\n",
       "      <td>71.480003</td>\n",
       "      <td>71.505997</td>\n",
       "      <td>73.043999</td>\n",
       "      <td>37249000.0</td>\n",
       "      <td>73.043999</td>\n",
       "      <td>NaN</td>\n",
       "    </tr>\n",
       "    <tr>\n",
       "      <th>2017-08-09</th>\n",
       "      <td>74.000000</td>\n",
       "      <td>71.790001</td>\n",
       "      <td>72.199997</td>\n",
       "      <td>72.706001</td>\n",
       "      <td>34460500.0</td>\n",
       "      <td>72.706001</td>\n",
       "      <td>NaN</td>\n",
       "    </tr>\n",
       "    <tr>\n",
       "      <th>2017-08-10</th>\n",
       "      <td>73.330002</td>\n",
       "      <td>70.931999</td>\n",
       "      <td>72.320000</td>\n",
       "      <td>71.080002</td>\n",
       "      <td>35464500.0</td>\n",
       "      <td>71.080002</td>\n",
       "      <td>NaN</td>\n",
       "    </tr>\n",
       "    <tr>\n",
       "      <th>2017-08-11</th>\n",
       "      <td>72.251999</td>\n",
       "      <td>70.723999</td>\n",
       "      <td>71.393997</td>\n",
       "      <td>71.573997</td>\n",
       "      <td>21829000.0</td>\n",
       "      <td>71.573997</td>\n",
       "      <td>NaN</td>\n",
       "    </tr>\n",
       "    <tr>\n",
       "      <th>2017-08-14</th>\n",
       "      <td>73.531998</td>\n",
       "      <td>72.519997</td>\n",
       "      <td>72.926003</td>\n",
       "      <td>72.760002</td>\n",
       "      <td>22596000.0</td>\n",
       "      <td>72.760002</td>\n",
       "      <td>NaN</td>\n",
       "    </tr>\n",
       "    <tr>\n",
       "      <th>2017-08-15</th>\n",
       "      <td>73.098000</td>\n",
       "      <td>71.874001</td>\n",
       "      <td>73.040001</td>\n",
       "      <td>72.466003</td>\n",
       "      <td>15425500.0</td>\n",
       "      <td>72.466003</td>\n",
       "      <td>NaN</td>\n",
       "    </tr>\n",
       "    <tr>\n",
       "      <th>2017-08-16</th>\n",
       "      <td>73.300003</td>\n",
       "      <td>72.503998</td>\n",
       "      <td>72.599998</td>\n",
       "      <td>72.582001</td>\n",
       "      <td>17069000.0</td>\n",
       "      <td>72.582001</td>\n",
       "      <td>NaN</td>\n",
       "    </tr>\n",
       "    <tr>\n",
       "      <th>2017-08-17</th>\n",
       "      <td>72.660004</td>\n",
       "      <td>70.318001</td>\n",
       "      <td>72.241997</td>\n",
       "      <td>70.384003</td>\n",
       "      <td>25138500.0</td>\n",
       "      <td>70.384003</td>\n",
       "      <td>NaN</td>\n",
       "    </tr>\n",
       "    <tr>\n",
       "      <th>2017-08-18</th>\n",
       "      <td>70.800003</td>\n",
       "      <td>69.160004</td>\n",
       "      <td>70.582001</td>\n",
       "      <td>69.491997</td>\n",
       "      <td>27041000.0</td>\n",
       "      <td>69.491997</td>\n",
       "      <td>NaN</td>\n",
       "    </tr>\n",
       "    <tr>\n",
       "      <th>2017-08-21</th>\n",
       "      <td>69.164001</td>\n",
       "      <td>66.370003</td>\n",
       "      <td>69.164001</td>\n",
       "      <td>67.571999</td>\n",
       "      <td>32477000.0</td>\n",
       "      <td>67.571999</td>\n",
       "      <td>68.285400</td>\n",
       "    </tr>\n",
       "    <tr>\n",
       "      <th>2017-08-22</th>\n",
       "      <td>68.447998</td>\n",
       "      <td>67.473999</td>\n",
       "      <td>68.225998</td>\n",
       "      <td>68.269997</td>\n",
       "      <td>21610000.0</td>\n",
       "      <td>68.269997</td>\n",
       "      <td>68.452933</td>\n",
       "    </tr>\n",
       "  </tbody>\n",
       "</table>\n",
       "</div>"
      ],
      "text/plain": [
       "                 High        Low       Open      Close      Volume  Adj Close  \\\n",
       "Date                                                                            \n",
       "2017-07-11  65.456001  62.860001  63.200001  65.444000  57797000.0  65.444000   \n",
       "2017-07-12  66.620003  64.900002  66.080002  65.903999  51730500.0  65.903999   \n",
       "2017-07-13  66.320000  63.993999  66.022003  64.681999  42972500.0  64.681999   \n",
       "2017-07-14  65.683998  64.244003  64.638000  65.556000  28126000.0  65.556000   \n",
       "2017-07-17  65.419998  62.689999  65.108002  63.914001  49384500.0  63.914001   \n",
       "2017-07-18  65.825996  63.132000  63.500000  65.648003  31868500.0  65.648003   \n",
       "2017-07-19  66.330002  64.643997  65.646004  65.052002  31785000.0  65.052002   \n",
       "2017-07-20  66.043999  64.839996  65.379997  65.984001  25831000.0  65.984001   \n",
       "2017-07-21  66.251999  65.160004  65.891998  65.680000  24508000.0  65.680000   \n",
       "2017-07-24  68.680000  66.001999  66.047997  68.503998  43185500.0  68.503998   \n",
       "2017-07-25  69.120003  66.830002  69.000000  67.919998  34946000.0  67.919998   \n",
       "2017-07-26  69.099998  67.624001  68.071999  68.769997  24104000.0  68.769997   \n",
       "2017-07-27  69.500000  65.258003  69.199997  66.891998  41512000.0  66.891998   \n",
       "2017-07-28  67.919998  66.501999  67.377998  67.014000  24402000.0  67.014000   \n",
       "2017-07-31  68.297997  64.208000  67.099998  64.694000  42675500.0  64.694000   \n",
       "2017-08-01  64.889999  63.226002  64.599998  63.914001  41515500.0  63.914001   \n",
       "2017-08-02  65.424004  62.243999  63.787998  65.178001  65457500.0  65.178001   \n",
       "2017-08-03  70.000000  68.629997  69.066002  69.417999  67675000.0  69.417999   \n",
       "2017-08-04  71.454002  68.660004  69.400002  71.382004  46344500.0  71.382004   \n",
       "2017-08-07  71.896004  70.550003  71.470001  71.033997  31622500.0  71.033997   \n",
       "2017-08-08  73.716003  71.480003  71.505997  73.043999  37249000.0  73.043999   \n",
       "2017-08-09  74.000000  71.790001  72.199997  72.706001  34460500.0  72.706001   \n",
       "2017-08-10  73.330002  70.931999  72.320000  71.080002  35464500.0  71.080002   \n",
       "2017-08-11  72.251999  70.723999  71.393997  71.573997  21829000.0  71.573997   \n",
       "2017-08-14  73.531998  72.519997  72.926003  72.760002  22596000.0  72.760002   \n",
       "2017-08-15  73.098000  71.874001  73.040001  72.466003  15425500.0  72.466003   \n",
       "2017-08-16  73.300003  72.503998  72.599998  72.582001  17069000.0  72.582001   \n",
       "2017-08-17  72.660004  70.318001  72.241997  70.384003  25138500.0  70.384003   \n",
       "2017-08-18  70.800003  69.160004  70.582001  69.491997  27041000.0  69.491997   \n",
       "2017-08-21  69.164001  66.370003  69.164001  67.571999  32477000.0  67.571999   \n",
       "2017-08-22  68.447998  67.473999  68.225998  68.269997  21610000.0  68.269997   \n",
       "\n",
       "            Open:30 days rolling  \n",
       "Date                              \n",
       "2017-07-11                   NaN  \n",
       "2017-07-12                   NaN  \n",
       "2017-07-13                   NaN  \n",
       "2017-07-14                   NaN  \n",
       "2017-07-17                   NaN  \n",
       "2017-07-18                   NaN  \n",
       "2017-07-19                   NaN  \n",
       "2017-07-20                   NaN  \n",
       "2017-07-21                   NaN  \n",
       "2017-07-24                   NaN  \n",
       "2017-07-25                   NaN  \n",
       "2017-07-26                   NaN  \n",
       "2017-07-27                   NaN  \n",
       "2017-07-28                   NaN  \n",
       "2017-07-31                   NaN  \n",
       "2017-08-01                   NaN  \n",
       "2017-08-02                   NaN  \n",
       "2017-08-03                   NaN  \n",
       "2017-08-04                   NaN  \n",
       "2017-08-07                   NaN  \n",
       "2017-08-08                   NaN  \n",
       "2017-08-09                   NaN  \n",
       "2017-08-10                   NaN  \n",
       "2017-08-11                   NaN  \n",
       "2017-08-14                   NaN  \n",
       "2017-08-15                   NaN  \n",
       "2017-08-16                   NaN  \n",
       "2017-08-17                   NaN  \n",
       "2017-08-18                   NaN  \n",
       "2017-08-21             68.285400  \n",
       "2017-08-22             68.452933  "
      ]
     },
     "execution_count": 44,
     "metadata": {},
     "output_type": "execute_result"
    }
   ],
   "source": [
    "df_tesla.head(31)"
   ]
  },
  {
   "cell_type": "code",
   "execution_count": 45,
   "metadata": {},
   "outputs": [
    {
     "data": {
      "text/plain": [
       "<AxesSubplot:xlabel='Date'>"
      ]
     },
     "execution_count": 45,
     "metadata": {},
     "output_type": "execute_result"
    },
    {
     "data": {
      "image/png": "[encoded data removed]",
      "text/plain": [
       "<Figure size 864x360 with 1 Axes>"
      ]
     },
     "metadata": {
      "needs_background": "light"
     },
     "output_type": "display_data"
    }
   ],
   "source": [
    "df_tesla[['Open','Open:30 days rolling']].plot(figsize=(12,5))"
   ]
  },
  {
   "cell_type": "code",
   "execution_count": null,
   "metadata": {},
   "outputs": [],
   "source": []
  }
 ],
 "metadata": {
  "kernelspec": {
   "display_name": "Python 3.8.10 64-bit",
   "language": "python",
   "name": "python3"
  },
  "language_info": {
   "codemirror_mode": {
    "name": "ipython",
    "version": 3
   },
   "file_extension": ".py",
   "mimetype": "text/x-python",
   "name": "python",
   "nbconvert_exporter": "python",
   "pygments_lexer": "ipython3",
   "version": "3.8.10"
  },
  "orig_nbformat": 4,
  "vscode": {
   "interpreter": {
    "hash": "916dbcbb3f70747c44a77c7bcd40155683ae19c65e1c03b4aa3499c5328201f1"
   }
  }
 },
 "nbformat": 4,
 "nbformat_minor": 2
}
